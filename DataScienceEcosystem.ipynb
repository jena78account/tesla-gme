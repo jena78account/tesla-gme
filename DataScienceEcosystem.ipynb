{
  "metadata": {
    "kernelspec": {
      "name": "python",
      "display_name": "Python (Pyodide)",
      "language": "python"
    },
    "language_info": {
      "codemirror_mode": {
        "name": "python",
        "version": 3
      },
      "file_extension": ".py",
      "mimetype": "text/x-python",
      "name": "python",
      "nbconvert_exporter": "python",
      "pygments_lexer": "ipython3",
      "version": "3.8"
    }
  },
  "nbformat_minor": 5,
  "nbformat": 4,
  "cells": [
    {
      "id": "f08546bb-de07-4998-b9af-597f1e6aba38",
      "cell_type": "markdown",
      "source": "# Data Science Tools and Ecosystem ",
      "metadata": {}
    },
    {
      "id": "75670a08-8160-4d59-b538-ceec88b39c65",
      "cell_type": "markdown",
      "source": "**Objectives:**\n\n- Popular languages for Data Science\n- Commonly used libraries\n- Data Science tools",
      "metadata": {}
    },
    {
      "id": "aed0d903-7c63-4044-9418-168cf01e0db8",
      "cell_type": "markdown",
      "source": "In this notebook, Data Science Tools and Ecosystem are summarized.",
      "metadata": {}
    },
    {
      "id": "e6138cf3-66e1-4a6d-8def-3264de54cda9",
      "cell_type": "markdown",
      "source": "Some of the popular languages that Data Scientists use are:\n1. Python\n2. R\n3. SQL\n4. Java",
      "metadata": {}
    },
    {
      "id": "864c3ed6-095c-43a8-bd73-383bf93b5753",
      "cell_type": "markdown",
      "source": "Some of the commonly used libraries used by Data Scientists include:\n1. matplotlib\n2. numpy\n3. dplyer",
      "metadata": {}
    },
    {
      "id": "565e5cf7-3476-45b2-8db9-ab6c167d2a5d",
      "cell_type": "markdown",
      "source": "|  Data Science Tools  | \n| -------------------  |\n| JupyterNotebook      |\n| RStudio              | \n| Apache Spark         | \n",
      "metadata": {}
    },
    {
      "id": "fd8a1592-8cb8-401b-9c89-d85fd3bf7414",
      "cell_type": "markdown",
      "source": "### Below are a few examples of evaluating arithmetic expressions in Python",
      "metadata": {}
    },
    {
      "id": "7c7c677b-3ae3-4f82-bfb9-8dd36bd0db74",
      "cell_type": "code",
      "source": "# This a simple arithmetic expression to mutiply then add integers\n(3*4)+5",
      "metadata": {
        "trusted": true
      },
      "outputs": [
        {
          "execution_count": 6,
          "output_type": "execute_result",
          "data": {
            "text/plain": "17"
          },
          "metadata": {}
        }
      ],
      "execution_count": 6
    },
    {
      "id": "ab11abaa-dc23-4369-a759-31364f9a0eb3",
      "cell_type": "code",
      "source": "# This will convert 200 minutes to hours by dividing by 60\n200/60",
      "metadata": {
        "trusted": true
      },
      "outputs": [
        {
          "execution_count": 7,
          "output_type": "execute_result",
          "data": {
            "text/plain": "3.3333333333333335"
          },
          "metadata": {}
        }
      ],
      "execution_count": 7
    },
    {
      "id": "261aeba9-300e-45e9-9d75-292b85f3a1c0",
      "cell_type": "markdown",
      "source": "## Author \nJenny J",
      "metadata": {}
    },
    {
      "id": "eb6c0b9e-5a6f-4dd3-8fc4-bfa11a02b8fa",
      "cell_type": "code",
      "source": "",
      "metadata": {
        "trusted": true
      },
      "outputs": [],
      "execution_count": null
    }
  ]
}